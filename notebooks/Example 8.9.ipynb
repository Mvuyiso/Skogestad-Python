{
 "cells": [
  {
   "cell_type": "code",
   "execution_count": 50,
   "metadata": {
    "collapsed": true
   },
   "outputs": [],
   "source": [
    "import numpy as np\n",
    "import matplotlib.pyplot as plt\n",
    "import scipy.optimize\n",
    "%matplotlib inline"
   ]
  },
  {
   "cell_type": "code",
   "execution_count": 51,
   "metadata": {
    "collapsed": true
   },
   "outputs": [],
   "source": [
    "I = np.identity(2)"
   ]
  },
  {
   "cell_type": "code",
   "execution_count": 52,
   "metadata": {
    "collapsed": true
   },
   "outputs": [],
   "source": [
    "def KG(s):\n",
    "    Ggain = np.matrix([[-87.8, 1.4],\n",
    "                       [-108.2, -1.4]])\n",
    "    Kgain = np.matrix([[-0.0015, 0],\n",
    "                       [0, -0.075]])\n",
    "    return 1/s*Kgain*Ggain\n",
    "\n",
    "def w_I(s):\n",
    "    return (s + 0.2) / (0.5 * s + 1)"
   ]
  },
  {
   "cell_type": "code",
   "execution_count": 53,
   "metadata": {
    "collapsed": true
   },
   "outputs": [],
   "source": [
    "def T_I(s):\n",
    "    return KG(s) * (I + KG(s)).I\n",
    "\n",
    "def M(s):\n",
    "    return w_I(s) * T_I(s)"
   ]
  },
  {
   "cell_type": "code",
   "execution_count": 54,
   "metadata": {
    "collapsed": true
   },
   "outputs": [],
   "source": [
    "def maxsigma(G):\n",
    "    return np.linalg.svd(G)[1].max()\n",
    "\n",
    "def specrad(G):\n",
    "    return np.abs(np.linalg.eigvals(G)).max()"
   ]
  },
  {
   "cell_type": "code",
   "execution_count": 58,
   "metadata": {
    "collapsed": true
   },
   "outputs": [],
   "source": [
    "def mu_ubound(G):\n",
    "    def scaled_system(d0):\n",
    "        dn = 1  # we set dn = 1 as in note 10 of 8.8.3\n",
    "        D = np.asmatrix(np.diag([d0[0], dn]))\n",
    "        return maxsigma(D*G*D.I)\n",
    "    r = scipy.optimize.minimize(scaled_system, 1)\n",
    "    return r['fun']"
   ]
  },
  {
   "cell_type": "code",
   "execution_count": 59,
   "metadata": {
    "collapsed": true
   },
   "outputs": [],
   "source": [
    "omega = np.logspace(-3, 2, 1000)\n",
    "s = 1j * omega\n",
    "\n",
    "T_Is = [T_I(si) for si in s]"
   ]
  },
  {
   "cell_type": "code",
   "execution_count": 60,
   "metadata": {
    "collapsed": false
   },
   "outputs": [
    {
     "data": {
      "text/plain": [
       "1.0043942556993373"
      ]
     },
     "execution_count": 60,
     "metadata": {},
     "output_type": "execute_result"
    }
   ],
   "source": [
    "mu_ubound(T_Is[3])"
   ]
  },
  {
   "cell_type": "code",
   "execution_count": 61,
   "metadata": {
    "collapsed": true
   },
   "outputs": [],
   "source": [
    "def F_of_T_I(func):\n",
    "    return [func(T) for T in T_Is]"
   ]
  },
  {
   "cell_type": "code",
   "execution_count": 62,
   "metadata": {
    "collapsed": false
   },
   "outputs": [
    {
     "data": {
      "image/png": "[encoded data removed]",
      "text/plain": [
       "<matplotlib.figure.Figure at 0x10ed2aef0>"
      ]
     },
     "metadata": {},
     "output_type": "display_data"
    }
   ],
   "source": [
    "plt.loglog(omega, F_of_T_I(maxsigma), \n",
    "           label=r'$\\bar\\sigma(T_I)$')\n",
    "plt.loglog(omega, 1 / np.abs(w_I(s)), \n",
    "           label=r'$1/|w_I(j\\omega)|$')\n",
    "plt.loglog(omega, F_of_T_I(specrad), \n",
    "           label=r'$\\rho$')\n",
    "plt.loglog(omega, F_of_T_I(mu_ubound), \n",
    "           label=r'$\\min_{D}\\bar\\sigma(DT_ID^{-1})$')\n",
    "plt.legend(loc='best')\n",
    "plt.xlabel(r'$\\omega$')\n",
    "plt.ylabel('Magnitude')\n",
    "\n",
    "plt.show()"
   ]
  },
  {
   "cell_type": "code",
   "execution_count": null,
   "metadata": {
    "collapsed": true
   },
   "outputs": [],
   "source": []
  }
 ],
 "metadata": {
  "kernelspec": {
   "display_name": "Python 3",
   "language": "python",
   "name": "python3"
  },
  "language_info": {
   "codemirror_mode": {
    "name": "ipython",
    "version": 3
   },
   "file_extension": ".py",
   "mimetype": "text/x-python",
   "name": "python",
   "nbconvert_exporter": "python",
   "pygments_lexer": "ipython3",
   "version": "3.5.1"
  }
 },
 "nbformat": 4,
 "nbformat_minor": 0
}
